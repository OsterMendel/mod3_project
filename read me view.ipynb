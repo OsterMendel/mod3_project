{
 "cells": [
  {
   "cell_type": "markdown",
   "metadata": {},
   "source": [
    "# mod3_project\n",
    "---\n",
    "\n",
    "\n",
    "## About\n",
    "For this project I gathered my data from https://www.kaggle.com/becksddf/churn-in-telecoms-dataset <br>\n",
    "This dataset has 3333 instances of 20 descriptive features and 1 target variable.<br>\n",
    "<u>Descriptive features</u>:<br>\n",
    "   >state                   \n",
    "    account length            \n",
    "    area code                 \n",
    "    phone number              \n",
    "    international plan        \n",
    "    voice mail plan           \n",
    "    number vmail messages     \n",
    "    total day minutes         \n",
    "    total day calls           \n",
    "    total day charge         \n",
    "    total eve minutes         \n",
    "    total eve calls           \n",
    "    total eve charge          \n",
    "    total night minutes       \n",
    "    total night calls        \n",
    "    total night charge       \n",
    "    total intl minutes        \n",
    "    total intl calls          \n",
    "    total intl charge         \n",
    "    customer service calls \n",
    "\n",
    "\n",
    "<u>Target variable</u>\n",
    ">churn\n",
    "\n",
    "## Goal\n",
    "\n",
    "The goal for this project is to determine what leads customers astray and to predict if a customer will leave.\n",
    "\n",
    "## A look inside\n",
    "\n",
    "\n",
    "\n",
    "## Modeling \n",
    "\n",
    "## Summary\n"
   ]
  },
  {
   "cell_type": "code",
   "execution_count": null,
   "metadata": {},
   "outputs": [],
   "source": []
  }
 ],
 "metadata": {
  "kernelspec": {
   "display_name": "Python 3",
   "language": "python",
   "name": "python3"
  },
  "language_info": {
   "codemirror_mode": {
    "name": "ipython",
    "version": 3
   },
   "file_extension": ".py",
   "mimetype": "text/x-python",
   "name": "python",
   "nbconvert_exporter": "python",
   "pygments_lexer": "ipython3",
   "version": "3.7.4"
  }
 },
 "nbformat": 4,
 "nbformat_minor": 2
}
