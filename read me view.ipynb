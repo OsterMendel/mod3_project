{
 "cells": [
  {
   "cell_type": "markdown",
   "metadata": {},
   "source": [
    "# mod3_project\n",
    "\n",
    "For this project I gathered my data from Kaggle --insert link -- \n",
    "\n",
    "outline of the data\n",
    "\n",
    "\n",
    "the goal\n",
    "\n",
    "\n",
    "a look inside the data\n",
    "\n",
    "a look at some modeling \n",
    "\n",
    "a look at the results and most imoprtant features"
   ]
  },
  {
   "cell_type": "code",
   "execution_count": null,
   "metadata": {},
   "outputs": [],
   "source": []
  }
 ],
 "metadata": {
  "kernelspec": {
   "display_name": "Python 3",
   "language": "python",
   "name": "python3"
  },
  "language_info": {
   "codemirror_mode": {
    "name": "ipython",
    "version": 3
   },
   "file_extension": ".py",
   "mimetype": "text/x-python",
   "name": "python",
   "nbconvert_exporter": "python",
   "pygments_lexer": "ipython3",
   "version": "3.7.4"
  }
 },
 "nbformat": 4,
 "nbformat_minor": 2
}
