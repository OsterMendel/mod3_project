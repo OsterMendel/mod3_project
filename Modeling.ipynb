{
 "cells": [
  {
   "cell_type": "code",
   "execution_count": null,
   "metadata": {},
   "outputs": [],
   "source": []
  },
  {
   "cell_type": "code",
   "execution_count": 1,
   "metadata": {},
   "outputs": [],
   "source": [
    "import pandas as pd\n",
    "import numpy as np\n",
    "import matplotlib.pyplot as plt\n",
    "import seaborn as sns\n",
    "%matplotlib inline \n",
    "\n",
    "# preprocessing\n",
    "from sklearn.preprocessing import StandardScaler\n",
    "\n",
    "# models\n",
    "from sklearn.linear_model import LogisticRegression\n",
    "from sklearn.neighbors import KNeighborsClassifier\n",
    "from sklearn.tree import DecisionTreeClassifier\n",
    "from sklearn.svm import SVC\n",
    "\n",
    "# model tuning\n",
    "from sklearn.model_selection import train_test_split\n",
    "from sklearn.model_selection import GridSearchCV\n",
    "from sklearn.model_selection import StratifiedKFold\n",
    "\n",
    "# ensembles\n",
    "from sklearn.ensemble import RandomForestClassifier\n",
    "from sklearn.ensemble import BaggingClassifier\n",
    "from sklearn.ensemble import AdaBoostClassifier\n",
    "from sklearn.ensemble import VotingClassifier\n",
    "from sklearn.ensemble import GradientBoostingClassifier\n",
    "\n",
    "\n",
    "# class imbalance\n",
    "from sklearn.dummy import DummyClassifier\n",
    "from sklearn.utils import resample\n",
    "from imblearn.over_sampling import SMOTE\n",
    "from imblearn.under_sampling import TomekLinks\n",
    "\n",
    "# evaluating models\n",
    "from sklearn.metrics import f1_score, precision_score, recall_score, accuracy_score\n",
    "\n",
    "# the ultimate\n",
    "import xgboost as xgb\n",
    "\n",
    "df = pd.read_csv('SyriaTel_customer_data.csv')"
   ]
  },
  {
   "cell_type": "markdown",
   "metadata": {},
   "source": [
    "## Training"
   ]
  },
  {
   "cell_type": "code",
   "execution_count": 2,
   "metadata": {},
   "outputs": [],
   "source": [
    "X = df.drop(columns=['churn'])\n",
    "y = df['churn']\n",
    "X_train, X_test, y_train, y_test = train_test_split(X,y,test_size=.25,random_state=10)"
   ]
  },
  {
   "cell_type": "code",
   "execution_count": 4,
   "metadata": {},
   "outputs": [
    {
     "data": {
      "text/plain": [
       "2937    False\n",
       "248     False\n",
       "592     False\n",
       "1756    False\n",
       "1685    False\n",
       "3247     True\n",
       "1932    False\n",
       "929     False\n",
       "1486    False\n",
       "669     False\n",
       "3004    False\n",
       "1139    False\n",
       "693     False\n",
       "1930    False\n",
       "2582    False\n",
       "1748    False\n",
       "197      True\n",
       "1553    False\n",
       "1676    False\n",
       "469     False\n",
       "2752    False\n",
       "2890    False\n",
       "1257    False\n",
       "1873    False\n",
       "1220    False\n",
       "567     False\n",
       "2921    False\n",
       "1122     True\n",
       "3032    False\n",
       "3214    False\n",
       "        ...  \n",
       "77       True\n",
       "3126    False\n",
       "1713     True\n",
       "974     False\n",
       "1224    False\n",
       "574      True\n",
       "3194    False\n",
       "2102    False\n",
       "2443    False\n",
       "239     False\n",
       "356     False\n",
       "1552    False\n",
       "2419     True\n",
       "2550    False\n",
       "40      False\n",
       "2538    False\n",
       "2304    False\n",
       "1097    False\n",
       "1032    False\n",
       "2042    False\n",
       "1949    False\n",
       "1520    False\n",
       "733     False\n",
       "2009    False\n",
       "1180    False\n",
       "3195    False\n",
       "1344     True\n",
       "527     False\n",
       "3197    False\n",
       "1289    False\n",
       "Name: churn, Length: 2499, dtype: bool"
      ]
     },
     "execution_count": 4,
     "metadata": {},
     "output_type": "execute_result"
    }
   ],
   "source": [
    "y_train"
   ]
  },
  {
   "cell_type": "code",
   "execution_count": null,
   "metadata": {},
   "outputs": [],
   "source": [
    "def preprocess(dataframe):\n",
    "    \n",
    "    DROP PHONE NUMBER COLUMN \n",
    "    \n",
    "    apply scaler \n",
    "    \n",
    "    \n",
    "    \n",
    "    \n",
    "    return "
   ]
  },
  {
   "cell_type": "code",
   "execution_count": null,
   "metadata": {},
   "outputs": [],
   "source": [
    "dont forget to apply your scaler to the X_test set "
   ]
  }
 ],
 "metadata": {
  "kernelspec": {
   "display_name": "Python 3",
   "language": "python",
   "name": "python3"
  },
  "language_info": {
   "codemirror_mode": {
    "name": "ipython",
    "version": 3
   },
   "file_extension": ".py",
   "mimetype": "text/x-python",
   "name": "python",
   "nbconvert_exporter": "python",
   "pygments_lexer": "ipython3",
   "version": "3.7.4"
  }
 },
 "nbformat": 4,
 "nbformat_minor": 2
}
