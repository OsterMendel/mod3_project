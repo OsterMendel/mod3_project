{
 "cells": [
  {
   "cell_type": "code",
   "execution_count": null,
   "metadata": {},
   "outputs": [],
   "source": []
  },
  {
   "cell_type": "code",
   "execution_count": 1,
   "metadata": {},
   "outputs": [],
   "source": [
    "import pandas as pd\n",
    "import numpy as np\n",
    "import matplotlib.pyplot as plt\n",
    "import seaborn as sns\n",
    "%matplotlib inline \n",
    "\n",
    "# preprocessing\n",
    "from sklearn.preprocessing import StandardScaler\n",
    "\n",
    "# models\n",
    "from sklearn.linear_model import LogisticRegression\n",
    "from sklearn.neighbors import KNeighborsClassifier\n",
    "from sklearn.tree import DecisionTreeClassifier\n",
    "from sklearn.svm import SVC\n",
    "\n",
    "# model tuning\n",
    "from sklearn.model_selection import train_test_split\n",
    "from sklearn.model_selection import GridSearchCV\n",
    "from sklearn.model_selection import StratifiedKFold\n",
    "\n",
    "# ensembles\n",
    "from sklearn.ensemble import RandomForestClassifier\n",
    "from sklearn.ensemble import BaggingClassifier\n",
    "from sklearn.ensemble import AdaBoostClassifier\n",
    "from sklearn.ensemble import VotingClassifier\n",
    "from sklearn.ensemble import GradientBoostingClassifier\n",
    "\n",
    "\n",
    "# class imbalance\n",
    "from sklearn.dummy import DummyClassifier\n",
    "from sklearn.utils import resample\n",
    "from imblearn.over_sampling import SMOTE\n",
    "from imblearn.under_sampling import TomekLinks\n",
    "\n",
    "# evaluating models\n",
    "from sklearn.metrics import f1_score, precision_score, recall_score, accuracy_score\n",
    "\n",
    "# the ultimate\n",
    "import xgboost as xgb\n",
    "\n",
    "df = pd.read_csv('SyriaTel_customer_data.csv')"
   ]
  },
  {
   "cell_type": "code",
   "execution_count": 27,
   "metadata": {},
   "outputs": [],
   "source": [
    "# what about ploynomials and interactions"
   ]
  },
  {
   "cell_type": "markdown",
   "metadata": {},
   "source": [
    "## Training"
   ]
  },
  {
   "cell_type": "code",
   "execution_count": 9,
   "metadata": {},
   "outputs": [],
   "source": [
    "# phone number has nothing to do with a customer being unsatisfied so I'll drop the column\n",
    "df.drop(columns=['phone number'],inplace=True)\n",
    "\n",
    "X = df.drop(columns=['churn'])\n",
    "y = df['churn']\n",
    "X_train, X_test, y_train, y_test = train_test_split(X,y,test_size=.25,random_state=10)"
   ]
  },
  {
   "cell_type": "markdown",
   "metadata": {},
   "source": [
    "turn the states into a number \n",
    "turn voicemail plan and international plan into 1 and 0 "
   ]
  },
  {
   "cell_type": "code",
   "execution_count": 29,
   "metadata": {},
   "outputs": [
    {
     "data": {
      "text/plain": [
       "2937    0\n",
       "248     0\n",
       "592     0\n",
       "1756    1\n",
       "1685    0\n",
       "3247    0\n",
       "1932    0\n",
       "929     0\n",
       "1486    0\n",
       "669     0\n",
       "3004    0\n",
       "1139    0\n",
       "693     0\n",
       "1930    0\n",
       "2582    0\n",
       "1748    0\n",
       "197     0\n",
       "1553    0\n",
       "1676    0\n",
       "469     0\n",
       "2752    0\n",
       "2890    0\n",
       "1257    0\n",
       "1873    0\n",
       "1220    0\n",
       "567     1\n",
       "2921    0\n",
       "1122    0\n",
       "3032    0\n",
       "3214    1\n",
       "       ..\n",
       "77      0\n",
       "3126    0\n",
       "1713    0\n",
       "974     0\n",
       "1224    0\n",
       "574     0\n",
       "3194    0\n",
       "2102    0\n",
       "2443    0\n",
       "239     0\n",
       "356     1\n",
       "1552    0\n",
       "2419    0\n",
       "2550    0\n",
       "40      0\n",
       "2538    0\n",
       "2304    0\n",
       "1097    0\n",
       "1032    0\n",
       "2042    0\n",
       "1949    0\n",
       "1520    0\n",
       "733     0\n",
       "2009    0\n",
       "1180    0\n",
       "3195    0\n",
       "1344    0\n",
       "527     0\n",
       "3197    0\n",
       "1289    0\n",
       "Length: 2499, dtype: int8"
      ]
     },
     "execution_count": 29,
     "metadata": {},
     "output_type": "execute_result"
    }
   ],
   "source": [
    "X_train['international plan'].astype('category').cat.codes"
   ]
  },
  {
   "cell_type": "code",
   "execution_count": 28,
   "metadata": {},
   "outputs": [
    {
     "data": {
      "text/plain": [
       "2937    17\n",
       "248      3\n",
       "592     36\n",
       "1756    27\n",
       "1685    38\n",
       "3247    36\n",
       "1932    39\n",
       "929     11\n",
       "1486     6\n",
       "669     10\n",
       "3004    39\n",
       "1139    14\n",
       "693     31\n",
       "1930    34\n",
       "2582    36\n",
       "1748    26\n",
       "197     43\n",
       "1553     5\n",
       "1676    47\n",
       "469      1\n",
       "2752     0\n",
       "2890     3\n",
       "1257    44\n",
       "1873    48\n",
       "1220    33\n",
       "567     20\n",
       "2921    29\n",
       "1122    29\n",
       "3032    49\n",
       "3214    36\n",
       "        ..\n",
       "77      34\n",
       "3126    31\n",
       "1713    24\n",
       "974     37\n",
       "1224     0\n",
       "574     49\n",
       "3194    29\n",
       "2102    48\n",
       "2443    27\n",
       "239      1\n",
       "356      4\n",
       "1552    41\n",
       "2419     4\n",
       "2550     2\n",
       "40      10\n",
       "2538    50\n",
       "2304    36\n",
       "1097    17\n",
       "1032    15\n",
       "2042    26\n",
       "1949    48\n",
       "1520    17\n",
       "733     32\n",
       "2009    43\n",
       "1180    40\n",
       "3195    13\n",
       "1344    19\n",
       "527     31\n",
       "3197    41\n",
       "1289    37\n",
       "Length: 2499, dtype: int8"
      ]
     },
     "execution_count": 28,
     "metadata": {},
     "output_type": "execute_result"
    }
   ],
   "source": [
    "X_train['state'].astype('category').cat.codes"
   ]
  },
  {
   "cell_type": "code",
   "execution_count": null,
   "metadata": {},
   "outputs": [],
   "source": [
    "dont forget to apply your scaler to the X_test set "
   ]
  },
  {
   "cell_type": "code",
   "execution_count": 12,
   "metadata": {},
   "outputs": [
    {
     "data": {
      "text/plain": [
       "XGBClassifier(base_score=None, booster=None, colsample_bylevel=None,\n",
       "              colsample_bynode=None, colsample_bytree=None, gamma=None,\n",
       "              gpu_id=None, importance_type='gain', interaction_constraints=None,\n",
       "              learning_rate=None, max_delta_step=None, max_depth=None,\n",
       "              min_child_weight=None, missing=nan, monotone_constraints=None,\n",
       "              n_estimators=100, n_jobs=None, num_parallel_tree=None,\n",
       "              objective='binary:logistic', random_state=None, reg_alpha=None,\n",
       "              reg_lambda=None, scale_pos_weight=None, subsample=None,\n",
       "              tree_method=None, validate_parameters=None, verbosity=None)"
      ]
     },
     "execution_count": 12,
     "metadata": {},
     "output_type": "execute_result"
    }
   ],
   "source": [
    "xgb.XGBClassifier()"
   ]
  },
  {
   "cell_type": "code",
   "execution_count": 19,
   "metadata": {},
   "outputs": [
    {
     "ename": "TypeError",
     "evalue": "__init__() missing 1 required positional argument: 'data'",
     "output_type": "error",
     "traceback": [
      "\u001b[0;31m-----------------------------------------------------------------------\u001b[0m",
      "\u001b[0;31mTypeError\u001b[0m                             Traceback (most recent call last)",
      "\u001b[0;32m<ipython-input-19-cffaa4d636f6>\u001b[0m in \u001b[0;36m<module>\u001b[0;34m()\u001b[0m\n\u001b[1;32m      1\u001b[0m \u001b[0;31m# read in data\u001b[0m\u001b[0;34m\u001b[0m\u001b[0;34m\u001b[0m\u001b[0;34m\u001b[0m\u001b[0m\n\u001b[0;32m----> 2\u001b[0;31m \u001b[0mdtrain\u001b[0m \u001b[0;34m=\u001b[0m \u001b[0mxgb\u001b[0m\u001b[0;34m.\u001b[0m\u001b[0mDMatrix\u001b[0m\u001b[0;34m(\u001b[0m\u001b[0;34m)\u001b[0m\u001b[0;34m\u001b[0m\u001b[0;34m\u001b[0m\u001b[0m\n\u001b[0m\u001b[1;32m      3\u001b[0m \u001b[0mdtest\u001b[0m \u001b[0;34m=\u001b[0m \u001b[0mxgb\u001b[0m\u001b[0;34m.\u001b[0m\u001b[0mDMatrix\u001b[0m\u001b[0;34m(\u001b[0m\u001b[0;34m)\u001b[0m\u001b[0;34m\u001b[0m\u001b[0;34m\u001b[0m\u001b[0m\n\u001b[1;32m      4\u001b[0m \u001b[0;31m# specify parameters via map\u001b[0m\u001b[0;34m\u001b[0m\u001b[0;34m\u001b[0m\u001b[0;34m\u001b[0m\u001b[0m\n\u001b[1;32m      5\u001b[0m \u001b[0mparam\u001b[0m \u001b[0;34m=\u001b[0m \u001b[0;34m{\u001b[0m\u001b[0;34m'max_depth'\u001b[0m\u001b[0;34m:\u001b[0m\u001b[0;36m2\u001b[0m\u001b[0;34m,\u001b[0m \u001b[0;34m'eta'\u001b[0m\u001b[0;34m:\u001b[0m\u001b[0;36m1\u001b[0m\u001b[0;34m,\u001b[0m \u001b[0;34m'objective'\u001b[0m\u001b[0;34m:\u001b[0m\u001b[0;34m'binary:logistic'\u001b[0m \u001b[0;34m}\u001b[0m\u001b[0;34m\u001b[0m\u001b[0;34m\u001b[0m\u001b[0m\n",
      "\u001b[0;31mTypeError\u001b[0m: __init__() missing 1 required positional argument: 'data'"
     ]
    }
   ],
   "source": [
    "# read in data\n",
    "dtrain = xgb.DMatrix()\n",
    "dtest = xgb.DMatrix()\n",
    "# specify parameters via map\n",
    "param = {'max_depth':2, 'eta':1, 'objective':'binary:logistic' }\n",
    "num_round = 2\n",
    "bst = xgb.train(param, dtrain, num_round)\n",
    "# make prediction\n",
    "preds = bst.predict(dtest)"
   ]
  },
  {
   "cell_type": "code",
   "execution_count": null,
   "metadata": {},
   "outputs": [],
   "source": []
  }
 ],
 "metadata": {
  "kernelspec": {
   "display_name": "Python 3",
   "language": "python",
   "name": "python3"
  },
  "language_info": {
   "codemirror_mode": {
    "name": "ipython",
    "version": 3
   },
   "file_extension": ".py",
   "mimetype": "text/x-python",
   "name": "python",
   "nbconvert_exporter": "python",
   "pygments_lexer": "ipython3",
   "version": "3.7.4"
  }
 },
 "nbformat": 4,
 "nbformat_minor": 2
}
